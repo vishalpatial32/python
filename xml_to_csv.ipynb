{
 "cells": [
  {
   "cell_type": "code",
   "execution_count": 2,
   "metadata": {},
   "outputs": [],
   "source": [
    "import xml.etree.ElementTree as ET\n"
   ]
  },
  {
   "cell_type": "code",
   "execution_count": 15,
   "metadata": {},
   "outputs": [
    {
     "name": "stdout",
     "output_type": "stream",
     "text": [
      "<Element 'catalog' at 0x000001AFF7401638> \n",
      " catalog \n",
      " {}\n"
     ]
    }
   ],
   "source": [
    "tree = ET.parse(\"C:/Users/vishal.patial/Desktop/MachineLearningWithPython/python/sample_test.txt\")\n",
    "root = tree.getroot()\n",
    "tag = root.tag\n",
    "att = root.attrib\n",
    "print(root,'\\n',tag,'\\n',att)\n"
   ]
  },
  {
   "cell_type": "code",
   "execution_count": 16,
   "metadata": {},
   "outputs": [
    {
     "name": "stdout",
     "output_type": "stream",
     "text": [
      "product {'description': 'Cardigan Sweater', 'product_image': 'cardigan.jpg'}\n"
     ]
    }
   ],
   "source": [
    "for child in root:\n",
    "    print(child.tag, child.attrib)"
   ]
  },
  {
   "cell_type": "code",
   "execution_count": 17,
   "metadata": {},
   "outputs": [
    {
     "name": "stdout",
     "output_type": "stream",
     "text": [
      "item_number {} QWZ5671\n",
      "price {} 39.95\n",
      "size {'description': 'Medium'} \n",
      "            \n",
      "size {'description': 'Large'} \n",
      "            \n",
      "item_number {} RRX9856\n",
      "price {} 42.50\n",
      "size {'description': 'Small'} \n",
      "            \n",
      "size {'description': 'Medium'} \n",
      "            \n",
      "size {'description': 'Large'} \n",
      "            \n",
      "size {'description': 'Extra Large'} \n",
      "            \n"
     ]
    }
   ],
   "source": [
    "for child in root:\n",
    "    #print(child.tag, child.attrib)\n",
    "    for subchild in child:\n",
    "        #print(subchild.tag, subchild.attrib, subchild.text)\n",
    "        for subsubchild in subchild:\n",
    "            print(subsubchild.tag, subsubchild.attrib, subsubchild.text)"
   ]
  },
  {
   "cell_type": "code",
   "execution_count": 13,
   "metadata": {},
   "outputs": [
    {
     "name": "stdout",
     "output_type": "stream",
     "text": [
      "catalog {} \n",
      "   \n",
      "product {'description': 'Cardigan Sweater', 'product_image': 'cardigan.jpg'} \n",
      "      \n",
      "catalog_item {'gender': \"Men's\"} \n",
      "         \n",
      "item_number {} QWZ5671\n",
      "price {} 39.95\n",
      "size {'description': 'Medium'} \n",
      "            \n",
      "color_swatch {'image': 'red_cardigan.jpg'} Red\n",
      "color_swatch {'image': 'burgundy_cardigan.jpg'} Burgundy\n",
      "size {'description': 'Large'} \n",
      "            \n",
      "color_swatch {'image': 'red_cardigan.jpg'} Red\n",
      "color_swatch {'image': 'burgundy_cardigan.jpg'} Burgundy\n",
      "catalog_item {'gender': \"Women's\"} \n",
      "         \n",
      "item_number {} RRX9856\n",
      "price {} 42.50\n",
      "size {'description': 'Small'} \n",
      "            \n",
      "color_swatch {'image': 'red_cardigan.jpg'} Red\n",
      "color_swatch {'image': 'navy_cardigan.jpg'} Navy\n",
      "color_swatch {'image': 'burgundy_cardigan.jpg'} Burgundy\n",
      "size {'description': 'Medium'} \n",
      "            \n",
      "color_swatch {'image': 'red_cardigan.jpg'} Red\n",
      "color_swatch {'image': 'navy_cardigan.jpg'} Navy\n",
      "color_swatch {'image': 'burgundy_cardigan.jpg'} Burgundy\n",
      "color_swatch {'image': 'black_cardigan.jpg'} Black\n",
      "size {'description': 'Large'} \n",
      "            \n",
      "color_swatch {'image': 'navy_cardigan.jpg'} Navy\n",
      "color_swatch {'image': 'black_cardigan.jpg'} Black\n",
      "size {'description': 'Extra Large'} \n",
      "            \n",
      "color_swatch {'image': 'burgundy_cardigan.jpg'} Burgundy\n",
      "color_swatch {'image': 'black_cardigan.jpg'} Black\n"
     ]
    }
   ],
   "source": [
    "for elem in root.iter():\n",
    "    print(elem.tag, elem.attrib, elem.text)"
   ]
  },
  {
   "cell_type": "markdown",
   "metadata": {},
   "source": [
    "# Flatten XML to CSV\n"
   ]
  },
  {
   "cell_type": "code",
   "execution_count": 18,
   "metadata": {},
   "outputs": [
    {
     "name": "stdout",
     "output_type": "stream",
     "text": [
      "\n",
      "product{'description': 'Cardigan Sweater', 'product_image': 'cardigan.jpg'};;catalog_item{'gender': \"Men's\"};;item_number{};QWZ5671;price{};39.95;size{'description': 'Medium'};;color_swatch{'image': 'red_cardigan.jpg'};Red;color_swatch{'image': 'burgundy_cardigan.jpg'};Burgundy;size{'description': 'Large'};;color_swatch{'image': 'red_cardigan.jpg'};Red;color_swatch{'image': 'burgundy_cardigan.jpg'};Burgundy;catalog_item{'gender': \"Women's\"};;item_number{};RRX9856;price{};42.50;size{'description': 'Small'};;color_swatch{'image': 'red_cardigan.jpg'};Red;color_swatch{'image': 'navy_cardigan.jpg'};Navy;color_swatch{'image': 'burgundy_cardigan.jpg'};Burgundy;size{'description': 'Medium'};;color_swatch{'image': 'red_cardigan.jpg'};Red;color_swatch{'image': 'navy_cardigan.jpg'};Navy;color_swatch{'image': 'burgundy_cardigan.jpg'};Burgundy;color_swatch{'image': 'black_cardigan.jpg'};Black;size{'description': 'Large'};;color_swatch{'image': 'navy_cardigan.jpg'};Navy;color_swatch{'image': 'black_cardigan.jpg'};Black;size{'description': 'Extra Large'};;color_swatch{'image': 'burgundy_cardigan.jpg'};Burgundy;color_swatch{'image': 'black_cardigan.jpg'};Black;\n"
     ]
    }
   ],
   "source": [
    "for child in root:\n",
    "    mainlevel = child.tag\n",
    "    xmltocsv = ''\n",
    "    for elem in root.iter():\n",
    "        if elem.tag == root.tag:\n",
    "            continue\n",
    "        if elem.tag == mainlevel:\n",
    "            xmltocsv = xmltocsv + '\\n'\n",
    "        xmltocsv = xmltocsv + str(elem.tag).rstrip() + str(elem.attrib).rstrip() + ';' + str(elem.text).rstrip() + ';'\n",
    "print(xmltocsv)"
   ]
  },
  {
   "cell_type": "code",
   "execution_count": null,
   "metadata": {
    "collapsed": true
   },
   "outputs": [],
   "source": []
  }
 ],
 "metadata": {
  "kernelspec": {
   "display_name": "Python 3",
   "language": "python",
   "name": "python3"
  }
 },
 "nbformat": 4,
 "nbformat_minor": 2
}
